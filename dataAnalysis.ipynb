{
 "cells": [
  {
   "cell_type": "code",
   "execution_count": 1,
   "metadata": {},
   "outputs": [],
   "source": [
    "import re\n",
    "from pdfminer.pdfinterp import PDFResourceManager, PDFPageInterpreter\n",
    "from pdfminer.converter import TextConverter\n",
    "from pdfminer.layout import LAParams\n",
    "from pdfminer.pdfpage import PDFPage\n",
    "from io import StringIO\n",
    "import string\n",
    "import json\n",
    "import shutil\n",
    "import os\n",
    "import pandas as pd\n",
    "from itertools import combinations"
   ]
  },
  {
   "cell_type": "code",
   "execution_count": 2,
   "metadata": {},
   "outputs": [],
   "source": [
    "countryList = ['USA', 'United States', 'Canada', 'Britain', 'England', 'Germany', 'France', 'Italy',\n",
    "              'China', 'Korea', 'Japan', 'Sweden', 'Brazilia', 'Australia', 'UK', 'Portugal', 'United Kingdom',\n",
    "              'Finland', 'Norway', 'Ireland', 'Netherlands', 'Ecuador']"
   ]
  },
  {
   "cell_type": "code",
   "execution_count": 3,
   "metadata": {},
   "outputs": [],
   "source": [
    "instituteList = ['College', 'Institute', 'University', 'Group', 'School', 'Department', 'Microsoft', 'Google',\n",
    "                'Adobe', 'Disney', 'Facebook', 'Tableau', 'UC', 'Inc.', 'Laboratory', 'Center', 'Autodesk', 'Lab',\n",
    "                'Inria', 'Univ']"
   ]
  },
  {
   "cell_type": "code",
   "execution_count": 4,
   "metadata": {},
   "outputs": [],
   "source": [
    "Asia = ['China', 'Singapore', 'Korea', 'India', 'Lebanon', 'Japan', 'Israel', \n",
    "        'Hong Kong', 'Taiwan', 'Malaysia', 'Turkey', 'Qatar', 'UAE', 'Philippines',\n",
    "       'Pakistan', 'Vietnam', 'Saudi Arabia', 'Iran']\n",
    "\n",
    "NorthAmerica = ['USA', 'Canada','Costa Rica']\n",
    "\n",
    "LatinAmerica = ['Brazil', 'Mexico', 'Ecuador','Paraguay','Argentina']\n",
    "\n",
    "Europe = ['Germany', 'Sweden', 'Belgium', 'UK', 'Spain', 'Italy', \n",
    "          'France', 'Finland', 'Slovenia', 'Denmark', 'Switzerland', \n",
    "          'Austria','Greece', 'Bulgaria', 'Netherlands','Portugal', \n",
    "          'Ireland', 'Romania', 'Norway', 'Cyprus', 'Hungary']\n",
    "\n",
    "Oceanic = ['Australia', 'New Zealand']\n",
    "\n",
    "Africa = ['Namibia', 'Egypt', 'South Africa', 'Rwanda', 'Tanzania','Uganda']"
   ]
  },
  {
   "cell_type": "code",
   "execution_count": 5,
   "metadata": {},
   "outputs": [],
   "source": [
    "ctyColor = {'Asia': '#fffac8', 'NorthAmerica': '#e6194B', \n",
    "            'LatinAmerica': '#fabebe', 'Europe': '#42d4f4', \n",
    "            'Oceanic': '#a9a9a9', 'Africa': '#aaffc3'}"
   ]
  },
  {
   "cell_type": "code",
   "execution_count": 6,
   "metadata": {},
   "outputs": [],
   "source": [
    "def convert_pdf_to_txt(path):\n",
    "    rsrcmgr = PDFResourceManager()\n",
    "    retstr = StringIO()\n",
    "    codec = 'utf-8'\n",
    "    laparams = LAParams()\n",
    "    device = TextConverter(rsrcmgr, retstr, laparams=laparams)\n",
    "    fp = open(path, 'rb')\n",
    "    interpreter = PDFPageInterpreter(rsrcmgr, device)\n",
    "    password = \"\"\n",
    "    maxpages = 0\n",
    "    caching = True\n",
    "    # only read the 1st page\n",
    "    pagenos=[0]\n",
    "\n",
    "    for page in PDFPage.get_pages(fp, pagenos, maxpages=maxpages, password=password,caching=caching, check_extractable=True):\n",
    "        interpreter.process_page(page)\n",
    "\n",
    "    text = retstr.getvalue()\n",
    "\n",
    "    fp.close()\n",
    "    device.close()\n",
    "    retstr.close()\n",
    "    return text"
   ]
  },
  {
   "cell_type": "code",
   "execution_count": 7,
   "metadata": {},
   "outputs": [],
   "source": [
    "def text2data(file):\n",
    "    try:\n",
    "        res = convert_pdf_to_txt(file)\n",
    "        print ('Finished converting PDF')\n",
    "    except TypeError:\n",
    "        print (file)\n",
    "        res = ''\n",
    "    new_res = res.split('\\n')\n",
    "    info = []\n",
    "    new_info = []\n",
    "    for idx, ele in enumerate (new_res):\n",
    "        if idx + 1 < len(new_res):\n",
    "            # the title, authors and affiliations are likely to be before ABSTRACT\n",
    "            if \"ABSTRACT\" in new_res[idx + 1]:\n",
    "                info = new_res[0:idx]\n",
    "                for ele in info:\n",
    "                    # Remove numbers\n",
    "                    ele = re.sub(r'\\d+', '', ele)\n",
    "                    # Remove empty ones\n",
    "                    if len(ele) > 0 and not ele.isspace():\n",
    "                        # skip the emails\n",
    "#                         if '@' in ele or '{' in ele:\n",
    "#                             continue\n",
    "#                         else:\n",
    "                        new_info.append(ele)\n",
    "    # Extract fields \n",
    "    data = {'aff': [], 'country': []}\n",
    "    for ele in new_info:\n",
    "        # Extract countries\n",
    "        for country in countryList:\n",
    "            if country in ele:\n",
    "                data['country'].append(country)\n",
    "        \n",
    "        # Extract institutes\n",
    "        for inst in instituteList:\n",
    "            if inst in ele:\n",
    "                for country in countryList:\n",
    "                    if country in ele:\n",
    "                        ele = ele.replace(country, '')\n",
    "                ele = ele.strip(' ')\n",
    "#                 ele = ele.translate(string.punctuation)\n",
    "                        \n",
    "                data['aff'].append(ele)\n",
    "        \n",
    "        # Extract authors\n",
    "        \n",
    "#         # Titles are unlikely to include commas and longer \n",
    "#         if ',' not in ele and len(ele) >= 4:\n",
    "#             data['title'].append(ele)\n",
    "#         # Search for names\n",
    "#         else:\n",
    "#             ele = ele.split(',')\n",
    "#             for name in ele:\n",
    "#                 name = name.strip(' ')\n",
    "#                 print (name)\n",
    "            \n",
    "#         m.search_first_name('Mikael')\n",
    "#         m.search_last_name('Remy')\n",
    "#     print (new_info)\n",
    "    return data\n"
   ]
  },
  {
   "cell_type": "markdown",
   "metadata": {},
   "source": [
    "import os\n",
    "rootDir = '/Users/luhe/Desktop/research/network_analysis/data/chi19-main/N/'\n",
    "count = 0\n",
    "new_data = {}\n",
    "subFolder = rootDir.split('/')[-2]\n",
    "year = rootDir.split('/')[-3]\n",
    "outFile = year + subFolder + '.txt'\n",
    "for dirName, subdirList, fileList in os.walk(rootDir):\n",
    "    print (len(fileList))\n",
    "    for fname in fileList:\n",
    "        if fname not in new_data and fname.endswith('.pdf'):\n",
    "            count += 1\n",
    "            print (fname + '    ' + str(count))\n",
    "            new_data[fname] = text2data(rootDir + fname)\n",
    "            \n",
    "#         except TypeError:\n",
    "        else:\n",
    "            continue\n",
    "#         fout.write(''.join(data[fname]) + '\\n')\n",
    "outFile = '/Users/luhe/Desktop/research/network_analysis/output/2019/' + outFile\n",
    "with open(outFile, 'w') as fout:\n",
    "    print ('Writing: ' + outFile)\n",
    "    fout.write('file' + '\\t' + 'affiliations' + '\\t' + 'country' + '\\n')\n",
    "    for key in new_data:\n",
    "        fout.write(key + '\\t')\n",
    "        affiliations = new_data[key]['aff']\n",
    "        country = new_data[key]['country']\n",
    "        fout.write('-'.join(affiliations))\n",
    "        fout.write('\\t')\n",
    "        fout.write('-'.join(country))\n",
    "        fout.write('\\n')"
   ]
  },
  {
   "cell_type": "code",
   "execution_count": 41,
   "metadata": {},
   "outputs": [
    {
     "ename": "FileNotFoundError",
     "evalue": "[Errno 2] No such file or directory: '/Users/luhe/Desktop/research/network_analysis/data/chi16-main/p1374-echtler.pdf'",
     "output_type": "error",
     "traceback": [
      "\u001b[0;31m---------------------------------------------------------------------------\u001b[0m",
      "\u001b[0;31mFileNotFoundError\u001b[0m                         Traceback (most recent call last)",
      "\u001b[0;32m<ipython-input-41-41e35aa68c63>\u001b[0m in \u001b[0;36m<module>\u001b[0;34m()\u001b[0m\n\u001b[1;32m     76\u001b[0m             \u001b[0msrc\u001b[0m \u001b[0;34m=\u001b[0m \u001b[0mrootDir\u001b[0m \u001b[0;34m+\u001b[0m \u001b[0mfname\u001b[0m\u001b[0;34m\u001b[0m\u001b[0m\n\u001b[1;32m     77\u001b[0m             \u001b[0mdst\u001b[0m \u001b[0;34m=\u001b[0m \u001b[0mrootDir\u001b[0m \u001b[0;34m+\u001b[0m \u001b[0;34m'K/'\u001b[0m\u001b[0;34m\u001b[0m\u001b[0m\n\u001b[0;32m---> 78\u001b[0;31m             \u001b[0mshutil\u001b[0m\u001b[0;34m.\u001b[0m\u001b[0mcopy\u001b[0m\u001b[0;34m(\u001b[0m\u001b[0msrc\u001b[0m\u001b[0;34m,\u001b[0m \u001b[0mdst\u001b[0m\u001b[0;34m)\u001b[0m\u001b[0;34m\u001b[0m\u001b[0m\n\u001b[0m\u001b[1;32m     79\u001b[0m             \u001b[0mcount\u001b[0m \u001b[0;34m+=\u001b[0m \u001b[0;36m1\u001b[0m\u001b[0;34m\u001b[0m\u001b[0m\n\u001b[1;32m     80\u001b[0m             \u001b[0mos\u001b[0m\u001b[0;34m.\u001b[0m\u001b[0mremove\u001b[0m\u001b[0;34m(\u001b[0m\u001b[0msrc\u001b[0m\u001b[0;34m)\u001b[0m\u001b[0;34m\u001b[0m\u001b[0m\n",
      "\u001b[0;32m/usr/local/Cellar/python/3.7.0/Frameworks/Python.framework/Versions/3.7/lib/python3.7/shutil.py\u001b[0m in \u001b[0;36mcopy\u001b[0;34m(src, dst, follow_symlinks)\u001b[0m\n\u001b[1;32m    239\u001b[0m     \u001b[0;32mif\u001b[0m \u001b[0mos\u001b[0m\u001b[0;34m.\u001b[0m\u001b[0mpath\u001b[0m\u001b[0;34m.\u001b[0m\u001b[0misdir\u001b[0m\u001b[0;34m(\u001b[0m\u001b[0mdst\u001b[0m\u001b[0;34m)\u001b[0m\u001b[0;34m:\u001b[0m\u001b[0;34m\u001b[0m\u001b[0m\n\u001b[1;32m    240\u001b[0m         \u001b[0mdst\u001b[0m \u001b[0;34m=\u001b[0m \u001b[0mos\u001b[0m\u001b[0;34m.\u001b[0m\u001b[0mpath\u001b[0m\u001b[0;34m.\u001b[0m\u001b[0mjoin\u001b[0m\u001b[0;34m(\u001b[0m\u001b[0mdst\u001b[0m\u001b[0;34m,\u001b[0m \u001b[0mos\u001b[0m\u001b[0;34m.\u001b[0m\u001b[0mpath\u001b[0m\u001b[0;34m.\u001b[0m\u001b[0mbasename\u001b[0m\u001b[0;34m(\u001b[0m\u001b[0msrc\u001b[0m\u001b[0;34m)\u001b[0m\u001b[0;34m)\u001b[0m\u001b[0;34m\u001b[0m\u001b[0m\n\u001b[0;32m--> 241\u001b[0;31m     \u001b[0mcopyfile\u001b[0m\u001b[0;34m(\u001b[0m\u001b[0msrc\u001b[0m\u001b[0;34m,\u001b[0m \u001b[0mdst\u001b[0m\u001b[0;34m,\u001b[0m \u001b[0mfollow_symlinks\u001b[0m\u001b[0;34m=\u001b[0m\u001b[0mfollow_symlinks\u001b[0m\u001b[0;34m)\u001b[0m\u001b[0;34m\u001b[0m\u001b[0m\n\u001b[0m\u001b[1;32m    242\u001b[0m     \u001b[0mcopymode\u001b[0m\u001b[0;34m(\u001b[0m\u001b[0msrc\u001b[0m\u001b[0;34m,\u001b[0m \u001b[0mdst\u001b[0m\u001b[0;34m,\u001b[0m \u001b[0mfollow_symlinks\u001b[0m\u001b[0;34m=\u001b[0m\u001b[0mfollow_symlinks\u001b[0m\u001b[0;34m)\u001b[0m\u001b[0;34m\u001b[0m\u001b[0m\n\u001b[1;32m    243\u001b[0m     \u001b[0;32mreturn\u001b[0m \u001b[0mdst\u001b[0m\u001b[0;34m\u001b[0m\u001b[0m\n",
      "\u001b[0;32m/usr/local/Cellar/python/3.7.0/Frameworks/Python.framework/Versions/3.7/lib/python3.7/shutil.py\u001b[0m in \u001b[0;36mcopyfile\u001b[0;34m(src, dst, follow_symlinks)\u001b[0m\n\u001b[1;32m    118\u001b[0m         \u001b[0mos\u001b[0m\u001b[0;34m.\u001b[0m\u001b[0msymlink\u001b[0m\u001b[0;34m(\u001b[0m\u001b[0mos\u001b[0m\u001b[0;34m.\u001b[0m\u001b[0mreadlink\u001b[0m\u001b[0;34m(\u001b[0m\u001b[0msrc\u001b[0m\u001b[0;34m)\u001b[0m\u001b[0;34m,\u001b[0m \u001b[0mdst\u001b[0m\u001b[0;34m)\u001b[0m\u001b[0;34m\u001b[0m\u001b[0m\n\u001b[1;32m    119\u001b[0m     \u001b[0;32melse\u001b[0m\u001b[0;34m:\u001b[0m\u001b[0;34m\u001b[0m\u001b[0m\n\u001b[0;32m--> 120\u001b[0;31m         \u001b[0;32mwith\u001b[0m \u001b[0mopen\u001b[0m\u001b[0;34m(\u001b[0m\u001b[0msrc\u001b[0m\u001b[0;34m,\u001b[0m \u001b[0;34m'rb'\u001b[0m\u001b[0;34m)\u001b[0m \u001b[0;32mas\u001b[0m \u001b[0mfsrc\u001b[0m\u001b[0;34m:\u001b[0m\u001b[0;34m\u001b[0m\u001b[0m\n\u001b[0m\u001b[1;32m    121\u001b[0m             \u001b[0;32mwith\u001b[0m \u001b[0mopen\u001b[0m\u001b[0;34m(\u001b[0m\u001b[0mdst\u001b[0m\u001b[0;34m,\u001b[0m \u001b[0;34m'wb'\u001b[0m\u001b[0;34m)\u001b[0m \u001b[0;32mas\u001b[0m \u001b[0mfdst\u001b[0m\u001b[0;34m:\u001b[0m\u001b[0;34m\u001b[0m\u001b[0m\n\u001b[1;32m    122\u001b[0m                 \u001b[0mcopyfileobj\u001b[0m\u001b[0;34m(\u001b[0m\u001b[0mfsrc\u001b[0m\u001b[0;34m,\u001b[0m \u001b[0mfdst\u001b[0m\u001b[0;34m)\u001b[0m\u001b[0;34m\u001b[0m\u001b[0m\n",
      "\u001b[0;31mFileNotFoundError\u001b[0m: [Errno 2] No such file or directory: '/Users/luhe/Desktop/research/network_analysis/data/chi16-main/p1374-echtler.pdf'"
     ]
    }
   ],
   "source": [
    "rootDir = '/Users/luhe/Desktop/research/network_analysis/data/chi17-main/'\n",
    "count = 0\n",
    "for dirName, subdirList, fileList in os.walk(rootDir):\n",
    "    for fname in fileList:\n",
    "        if count < 50:\n",
    "            src = rootDir + fname\n",
    "            dst = rootDir + 'A/'\n",
    "            shutil.copy(src, dst)\n",
    "            count += 1\n",
    "            os.remove(src)\n",
    "#             print (src + ' moved to: ' + dst)\n",
    "        elif count >=50 and count < 100:\n",
    "            src = rootDir + fname\n",
    "            dst = rootDir + 'B/'\n",
    "            shutil.copy(src, dst)\n",
    "            count += 1\n",
    "            os.remove(src)\n",
    "#             print (src + ' moved to: ' + dst)\n",
    "        elif count >= 100 and count < 150:\n",
    "            src = rootDir + fname\n",
    "            dst = rootDir + 'C/'\n",
    "            shutil.copy(src, dst)\n",
    "            count += 1\n",
    "            os.remove(src)\t\n",
    "#             print (src + ' moved to: ' + dst)\n",
    "        elif count >= 150 and count < 200:\n",
    "            src = rootDir + fname\n",
    "            dst = rootDir + 'D/'\n",
    "            shutil.copy(src, dst)\n",
    "            count += 1\n",
    "            os.remove(src)\t\n",
    "#             print (src + ' moved to: ' + dst)\n",
    "        elif count >= 200 and count < 250:\n",
    "            src = rootDir + fname\n",
    "            dst = rootDir + 'E/'\n",
    "            shutil.copy(src, dst)\n",
    "            count += 1\n",
    "            os.remove(src)\t\n",
    "#             print (src + ' moved to: ' + dst)\n",
    "        elif count >= 250 and count < 300:\n",
    "            src = rootDir + fname\n",
    "            dst = rootDir + 'F/'\n",
    "            shutil.copy(src, dst)\n",
    "            count += 1\n",
    "            os.remove(src)\t\n",
    "#             print (src + ' moved to: ' + dst)\n",
    "        elif count >= 300 and count < 350:\n",
    "            src = rootDir + fname\n",
    "            dst = rootDir + 'G/'\n",
    "            shutil.copy(src, dst)\n",
    "            count += 1\n",
    "            os.remove(src)\t\n",
    "#             print (src + ' moved to: ' + dst)\n",
    "        elif count >= 350 and count < 400:\n",
    "            src = rootDir + fname\n",
    "            dst = rootDir + 'H/'\n",
    "            shutil.copy(src, dst)\n",
    "            count += 1\n",
    "            os.remove(src)\t\n",
    "#             print (src + ' moved to: ' + dst)\n",
    "        elif count >= 400 and count < 450:\n",
    "            src = rootDir + fname\n",
    "            dst = rootDir + 'I/'\n",
    "            shutil.copy(src, dst)\n",
    "            count += 1\n",
    "            os.remove(src)\t\n",
    "#             print (src + ' moved to: ' + dst)\n",
    "        elif count >= 450 and count < 500:\n",
    "            src = rootDir + fname\n",
    "            dst = rootDir + 'J/'\n",
    "            shutil.copy(src, dst)\n",
    "            count += 1\n",
    "            os.remove(src)\t\n",
    "#             print (src + ' moved to: ' + dst)\n",
    "        elif count >= 500 and count < 550:\n",
    "            src = rootDir + fname\n",
    "            dst = rootDir + 'K/'\n",
    "            shutil.copy(src, dst)\n",
    "            count += 1\n",
    "            os.remove(src)\t\n",
    "#             print (src + ' moved to: ' + dst)\n",
    "        elif count >= 550 and count < 600:\n",
    "            src = rootDir + fname\n",
    "            dst = rootDir + 'L/'\n",
    "            shutil.copy(src, dst)\n",
    "            count += 1\n",
    "            os.remove(src)\t\n",
    "#             print (src + ' moved to: ' + dst)\n",
    "        elif count >=600:\n",
    "            src = rootDir + fname\n",
    "            dst = rootDir + 'M/'\n",
    "            shutil.copy(src, dst)\n",
    "            count += 1\n",
    "            os.remove(src)\t\n",
    "#             print (src + ' moved to: ' + dst)"
   ]
  },
  {
   "cell_type": "code",
   "execution_count": 42,
   "metadata": {},
   "outputs": [
    {
     "name": "stdout",
     "output_type": "stream",
     "text": [
      "547\n"
     ]
    }
   ],
   "source": [
    "rootDir = '/Users/luhe/Desktop/research/network_analysis/data/chi1-main/'\n",
    "count = 0\n",
    "for dirName, subdirList, fileList in os.walk(rootDir):\n",
    "    count += len(fileList)\n",
    "print (count)"
   ]
  },
  {
   "cell_type": "markdown",
   "metadata": {},
   "source": [
    "## Prepare data for network analysis"
   ]
  },
  {
   "cell_type": "code",
   "execution_count": 20,
   "metadata": {},
   "outputs": [],
   "source": [
    "inFile16A = '/Users/luhe/Desktop/research/network_analysis/output/2016/chi16-mainA.txt'\n",
    "inFile16B = '/Users/luhe/Desktop/research/network_analysis/output/2016/chi16-mainB.txt'\n",
    "inFile16C = '/Users/luhe/Desktop/research/network_analysis/output/2016/chi16-mainC.txt'\n",
    "inFile16D = '/Users/luhe/Desktop/research/network_analysis/output/2016/chi16-mainD.txt'\n",
    "inFile16E = '/Users/luhe/Desktop/research/network_analysis/output/2016/chi16-mainE.txt'\n",
    "inFile16F = '/Users/luhe/Desktop/research/network_analysis/output/2016/chi16-mainF.txt'\n",
    "inFile16G = '/Users/luhe/Desktop/research/network_analysis/output/2016/chi16-mainG.txt'\n",
    "inFile16H = '/Users/luhe/Desktop/research/network_analysis/output/2016/chi16-mainH.txt'\n",
    "inFile16I = '/Users/luhe/Desktop/research/network_analysis/output/2016/chi16-mainI.txt'\n",
    "inFile16J = '/Users/luhe/Desktop/research/network_analysis/output/2016/chi16-mainJ.txt'\n",
    "inFile16K = '/Users/luhe/Desktop/research/network_analysis/output/2016/chi16-mainK.txt'"
   ]
  },
  {
   "cell_type": "code",
   "execution_count": 21,
   "metadata": {},
   "outputs": [],
   "source": [
    "df16A = pd.read_csv(inFile16A, sep='\\t')\n",
    "df16B = pd.read_csv(inFile16B, sep='\\t')\n",
    "df16C = pd.read_csv(inFile16C, sep='\\t')\n",
    "df16D = pd.read_csv(inFile16D, sep='\\t')\n",
    "df16E = pd.read_csv(inFile16E, sep='\\t')\n",
    "df16F = pd.read_csv(inFile16F, sep='\\t')\n",
    "df16G = pd.read_csv(inFile16G, sep='\\t')\n",
    "df16H = pd.read_csv(inFile16H, sep='\\t')\n",
    "df16I = pd.read_csv(inFile16I, sep='\\t')\n",
    "df16J = pd.read_csv(inFile16J, sep='\\t')\n",
    "df16K = pd.read_csv(inFile16K, sep='\\t')\n",
    "\n",
    "\n",
    "\n",
    "df16 = df16A.append(df16B)\n",
    "df16 = df16.append(df16C)\n",
    "df16 = df16.append(df16D)\n",
    "df16 = df16.append(df16E)\n",
    "df16 = df16.append(df16F)\n",
    "df16 = df16.append(df16G)\n",
    "df16 = df16.append(df16H)\n",
    "df16 = df16.append(df16I)\n",
    "df16 = df16.append(df16J)\n",
    "df16 = df16.append(df16K)"
   ]
  },
  {
   "cell_type": "code",
   "execution_count": 67,
   "metadata": {},
   "outputs": [],
   "source": [
    "country16 = df16['country']\n",
    "aff = df16['affiliations']"
   ]
  },
  {
   "cell_type": "code",
   "execution_count": 68,
   "metadata": {},
   "outputs": [],
   "source": [
    "newCountry16 = []\n",
    "for ele in country16:\n",
    "    ele = ele.replace('Scotland','UK')\n",
    "    newCountry16.append(ele)"
   ]
  },
  {
   "cell_type": "code",
   "execution_count": 91,
   "metadata": {},
   "outputs": [],
   "source": [
    "tplCount = {}\n",
    "isolates = {}\n",
    "for ele in newCountry16:\n",
    "    # print (ele)\n",
    "    if '-' in ele:\n",
    "        tpl = ele.split('-')\n",
    "        tpl = list(set(tpl))\n",
    "        # exists international collboration\n",
    "        if len(tpl) > 1:\n",
    "        # Get all permutations of [1, 2, 3] \n",
    "            comb = combinations(tpl, 2) \n",
    "            for i in list(comb): \n",
    "                if i not in tplCount:\n",
    "                    tplCount[i] = 1\n",
    "                else:\n",
    "                    tplCount[i] += 1 \n",
    "with open('./output/2016All.txt', 'w') as fout:\n",
    "    fout.write('\\t'.join(['C1','C2', 'weight']))\n",
    "    fout.write('\\n')\n",
    "    for key in tplCount:\n",
    "        val = tplCount[key]\n",
    "        fout.write('\\t'.join([key[0],key[1],str(val)]))\n",
    "        fout.write('\\n')\n",
    "    "
   ]
  },
  {
   "cell_type": "code",
   "execution_count": 92,
   "metadata": {},
   "outputs": [
    {
     "name": "stdout",
     "output_type": "stream",
     "text": [
      "[('Canada', 'USA'), ('Denmark', 'Finland'), ('Romania', 'USA'), ('USA', 'UK'), ('Denmark', 'Ireland'), ('Denmark', 'UK'), ('Ireland', 'UK'), ('Germany', 'UK'), ('Austria', 'Canada'), ('Sweden', 'USA'), ('Mexico', 'USA'), ('USA', 'Hong Kong'), ('Germany', 'Sweden'), ('Germany', 'Belgium'), ('Germany', 'USA'), ('Belgium', 'USA'), ('Singapore', 'Hong Kong'), ('Germany', 'Canada'), ('Spain', 'UK'), ('Korea', 'Canada'), ('Brazil', 'Canada'), ('Sweden', 'Italy'), ('France', 'Canada'), ('Italy', 'Finland'), ('Slovenia', 'Canada'), ('Slovenia', 'UK'), ('Canada', 'UK'), ('Germany', 'Denmark'), ('India', 'USA'), ('Finland', 'UK'), ('Switzerland', 'USA'), ('Austria', 'USA'), ('Spain', 'Switzerland'), ('China', 'UK'), ('France', 'UK'), ('France', 'USA'), ('UK', 'USA'), ('Lebanon', 'UK'), ('Canada', 'Belgium'), ('Japan', 'USA'), ('USA', 'France'), ('France', 'Hong Kong'), ('Brazil', 'USA'), ('New Zealand', 'Canada'), ('Korea', 'USA'), ('New Zealand', 'Australia'), ('China', 'USA'), ('India', 'UK'), ('Greece', 'USA'), ('Australia', 'UK'), ('Namibia', 'India'), ('Namibia', 'USA'), ('Israel', 'USA'), ('Bulgaria', 'UK'), ('Spain', 'USA'), ('Sweden', 'Denmark'), ('Taiwan', 'Japan'), ('Switzerland', 'UK'), ('Korea', 'Japan'), ('Malaysia', 'UK'), ('Japan', 'Canada'), ('Finland', 'USA'), ('Sweden', 'Singapore'), ('Sweden', 'Turkey'), ('Singapore', 'Turkey'), ('Denmark', 'Switzerland'), ('Taiwan', 'USA'), ('China', 'India'), ('Netherlands', 'Korea'), ('Netherlands', 'Canada'), ('Netherlands', 'UK'), ('Hong Kong', 'UK'), ('Korea', 'UK'), ('Qatar', 'Finland'), ('Germany', 'Korea'), ('Denmark', 'Korea'), ('Denmark', 'Germany'), ('Denmark', 'Austria'), ('Germany', 'Austria'), ('Sweden', 'Germany'), ('New Zealand', 'USA'), ('Portugal', 'UK'), ('China', 'Korea'), ('Netherlands', 'Switzerland'), ('Switzerland', 'Canada'), ('Switzerland', 'Austria'), ('Canada', 'Austria'), ('UAE', 'Korea'), ('Italy', 'UK')]\n"
     ]
    }
   ],
   "source": [
    "tplCount = {}\n",
    "idList= []\n",
    "count = 0\n",
    "for ele in newCountry16:\n",
    "        if '-' in ele:\n",
    "            tpl = ele.split('-')\n",
    "            tpl = list(set(tpl))\n",
    "            # exists international collboration\n",
    "            if len(tpl) > 1:\n",
    "            # Get all permutations of [1, 2, 3] \n",
    "                comb = combinations(tpl, 2) \n",
    "                for i in list(comb):\n",
    "                    if i not in tplCount:\n",
    "                        tplCount[i] = 1\n",
    "                    else:\n",
    "                        tplCount[i] += 1\n",
    "\n",
    "                        \n",
    "keyList = list(tplCount)\n",
    "for key in tplCount:\n",
    "    if reversed(key) in keyList:\n",
    "        print (key)\n",
    "print (keyList)"
   ]
  },
  {
   "cell_type": "markdown",
   "metadata": {},
   "source": [
    "### Creating country ID dictionary"
   ]
  },
  {
   "cell_type": "code",
   "execution_count": 93,
   "metadata": {},
   "outputs": [],
   "source": [
    "ctyID = {}\n",
    "count = 0\n",
    "for pair in keyList:\n",
    "    for ele in pair:\n",
    "        if ele not in ctyID:\n",
    "            ctyID[ele] = {'ID': count, 'color': ''}\n",
    "            ctyID[ele]['ID'] = count\n",
    "            if ele in Asia:\n",
    "                ctyID[ele]['color'] = ctyColor['Asia']\n",
    "            elif ele in NorthAmerica:\n",
    "                ctyID[ele]['color'] = ctyColor['NorthAmerica']\n",
    "            elif ele in LatinAmerica:\n",
    "                ctyID[ele]['color'] = ctyColor['LatinAmerica']             \n",
    "            elif ele in Europe:\n",
    "                ctyID[ele]['color'] = ctyColor['Europe']\n",
    "            elif ele in Oceanic:\n",
    "                ctyID[ele]['color'] = ctyColor['Oceanic']\n",
    "            elif ele in Africa:\n",
    "                ctyID[ele]['color'] = ctyColor['Africa']\n",
    "            count += 1\n"
   ]
  },
  {
   "cell_type": "markdown",
   "metadata": {},
   "source": [
    "### Making a new dictionary with numbered ID keys"
   ]
  },
  {
   "cell_type": "code",
   "execution_count": 94,
   "metadata": {},
   "outputs": [],
   "source": [
    "newtplCount = {}\n",
    "for key in tplCount:\n",
    "    newKey = (ctyID[key[0]]['ID'], ctyID[key[1]]['ID'])\n",
    "    newtplCount[newKey] = tplCount[key]\n",
    "#     del tplCount[key]"
   ]
  },
  {
   "cell_type": "markdown",
   "metadata": {},
   "source": [
    "### Writing to Files"
   ]
  },
  {
   "cell_type": "code",
   "execution_count": 95,
   "metadata": {},
   "outputs": [],
   "source": [
    "with open('./output/2016AllEdgesNumbered.txt', 'w') as fout:\n",
    "    fout.write('\\t'.join(['C1','C2', 'weight']))\n",
    "    fout.write('\\n')\n",
    "    for key in newtplCount:\n",
    "        val = newtplCount[key]\n",
    "        fout.write('\\t'.join([str(key[0]),str(key[1]),str(val)]))\n",
    "        fout.write('\\n')"
   ]
  },
  {
   "cell_type": "markdown",
   "metadata": {},
   "source": [
    "### Compute publication volumn for each country"
   ]
  },
  {
   "cell_type": "code",
   "execution_count": 96,
   "metadata": {},
   "outputs": [
    {
     "name": "stdout",
     "output_type": "stream",
     "text": [
      "{'Canada': {'ID': 0, 'color': '#e6194B', 'pubCount': 69}, 'USA': {'ID': 1, 'color': '#e6194B', 'pubCount': 385}, 'Denmark': {'ID': 2, 'color': '#42d4f4', 'pubCount': 21}, 'Finland': {'ID': 3, 'color': '#42d4f4', 'pubCount': 24}, 'Romania': {'ID': 4, 'color': '#42d4f4', 'pubCount': 2}, 'UK': {'ID': 5, 'color': '#42d4f4', 'pubCount': 157}, 'Ireland': {'ID': 6, 'color': '#42d4f4', 'pubCount': 4}, 'Germany': {'ID': 7, 'color': '#42d4f4', 'pubCount': 52}, 'Austria': {'ID': 8, 'color': '#42d4f4', 'pubCount': 5}, 'Sweden': {'ID': 9, 'color': '#42d4f4', 'pubCount': 22}, 'Mexico': {'ID': 10, 'color': '#fabebe', 'pubCount': 1}, 'Hong Kong': {'ID': 11, 'color': '#fffac8', 'pubCount': 6}, 'Belgium': {'ID': 12, 'color': '#42d4f4', 'pubCount': 6}, 'Singapore': {'ID': 13, 'color': '#fffac8', 'pubCount': 3}, 'Spain': {'ID': 14, 'color': '#42d4f4', 'pubCount': 5}, 'Korea': {'ID': 15, 'color': '#fffac8', 'pubCount': 31}, 'Brazil': {'ID': 16, 'color': '#fabebe', 'pubCount': 3}, 'Italy': {'ID': 17, 'color': '#42d4f4', 'pubCount': 5}, 'France': {'ID': 18, 'color': '#42d4f4', 'pubCount': 27}, 'Slovenia': {'ID': 19, 'color': '#42d4f4', 'pubCount': 1}, 'India': {'ID': 20, 'color': '#fffac8', 'pubCount': 5}, 'Switzerland': {'ID': 21, 'color': '#42d4f4', 'pubCount': 14}, 'China': {'ID': 22, 'color': '#fffac8', 'pubCount': 16}, 'Lebanon': {'ID': 23, 'color': '#fffac8', 'pubCount': 1}, 'Japan': {'ID': 24, 'color': '#fffac8', 'pubCount': 19}, 'New Zealand': {'ID': 25, 'color': '#a9a9a9', 'pubCount': 6}, 'Australia': {'ID': 26, 'color': '#a9a9a9', 'pubCount': 29}, 'Greece': {'ID': 27, 'color': '#42d4f4', 'pubCount': 1}, 'Namibia': {'ID': 28, 'color': '#aaffc3', 'pubCount': 1}, 'Israel': {'ID': 29, 'color': '#fffac8', 'pubCount': 6}, 'Bulgaria': {'ID': 30, 'color': '#42d4f4', 'pubCount': 1}, 'Taiwan': {'ID': 31, 'color': '#fffac8', 'pubCount': 7}, 'Malaysia': {'ID': 32, 'color': '#fffac8', 'pubCount': 1}, 'Turkey': {'ID': 33, 'color': '#fffac8', 'pubCount': 3}, 'Netherlands': {'ID': 34, 'color': '#42d4f4', 'pubCount': 8}, 'Qatar': {'ID': 35, 'color': '#fffac8', 'pubCount': 1}, 'Portugal': {'ID': 36, 'color': '#42d4f4', 'pubCount': 1}, 'UAE': {'ID': 37, 'color': '#fffac8', 'pubCount': 1}}\n"
     ]
    }
   ],
   "source": [
    "pubCount = {}\n",
    "for ele in newCountry16:\n",
    "        if '-' not in ele:\n",
    "            if ele not in pubCount:\n",
    "                pubCount[ele] = 1\n",
    "            else:\n",
    "                pubCount[ele] += 1\n",
    "        else:\n",
    "            lst = ele.split('-')\n",
    "            for cty in lst:\n",
    "                if cty not in pubCount:\n",
    "                    pubCount[cty] = 1\n",
    "                else:\n",
    "                    pubCount[cty] += 1\n",
    "for ele in pubCount:\n",
    "    if ele in ctyID:\n",
    "        ctyID[ele]['pubCount'] = pubCount[ele]\n",
    "\n",
    "with open('./output/2016AllcountryID.txt', 'w') as fout:\n",
    "    fout.write('Country' + '\\t' + 'ID' + '\\t' + 'Color' + '\\t' + 'pubCount' + '\\n')\n",
    "    for key in ctyID:\n",
    "        fout.write(key + '\\t' + str(ctyID[key]['ID']) + '\\t' + str(ctyID[key]['color']) + '\\t' + str(ctyID[key]['pubCount']) + '\\n')\n",
    "print (ctyID)"
   ]
  },
  {
   "cell_type": "markdown",
   "metadata": {},
   "source": [
    "### Compute descriptives"
   ]
  },
  {
   "cell_type": "markdown",
   "metadata": {},
   "source": [
    "ctyID: {country: {ID: id, color: color}}\n",
    "tplCount: {(c1,c2): count}"
   ]
  },
  {
   "cell_type": "code",
   "execution_count": 75,
   "metadata": {},
   "outputs": [
    {
     "name": "stdout",
     "output_type": "stream",
     "text": [
      "135\n"
     ]
    }
   ],
   "source": [
    "count = 0\n",
    "for ele in country:\n",
    "    if '-' in ele:\n",
    "        tpl = set(ele.split('-'))\n",
    "        if len(tpl) > 1:\n",
    "            count += 1\n",
    "        \n",
    "print (count)"
   ]
  },
  {
   "cell_type": "markdown",
   "metadata": {},
   "source": [
    "## 2017 analysis"
   ]
  },
  {
   "cell_type": "code",
   "execution_count": 23,
   "metadata": {},
   "outputs": [],
   "source": [
    "inFile17A = '/Users/luhe/Desktop/research/network_analysis/output/2017/chi17_mainA.txt'\n",
    "inFile17B = '/Users/luhe/Desktop/research/network_analysis/output/2017/chi17_mainB.txt'\n",
    "inFile17C = '/Users/luhe/Desktop/research/network_analysis/output/2017/chi17_mainC.txt'\n",
    "inFile17D = '/Users/luhe/Desktop/research/network_analysis/output/2017/chi17_mainD.txt'\n",
    "inFile17E = '/Users/luhe/Desktop/research/network_analysis/output/2017/chi17_mainE.txt'\n",
    "inFile17F = '/Users/luhe/Desktop/research/network_analysis/output/2017/chi17_mainF.txt'\n",
    "inFile17G = '/Users/luhe/Desktop/research/network_analysis/output/2017/chi17_mainG.txt'\n",
    "inFile17H = '/Users/luhe/Desktop/research/network_analysis/output/2017/chi17_mainH.txt'\n",
    "inFile17I = '/Users/luhe/Desktop/research/network_analysis/output/2017/chi17_mainI.txt'\n",
    "inFile17J = '/Users/luhe/Desktop/research/network_analysis/output/2017/chi17_mainJ.txt'\n",
    "inFile17K = '/Users/luhe/Desktop/research/network_analysis/output/2017/chi17_mainK.txt'\n",
    "inFile17L = '/Users/luhe/Desktop/research/network_analysis/output/2017/chi17_mainL.txt'\n",
    "inFile17M = '/Users/luhe/Desktop/research/network_analysis/output/2017/chi17_mainM.txt'\n",
    "inFile17N = '/Users/luhe/Desktop/research/network_analysis/output/2017/chi17_mainN.txt'\n",
    "inFile17O = '/Users/luhe/Desktop/research/network_analysis/output/2017/chi17_mainO.txt'"
   ]
  },
  {
   "cell_type": "code",
   "execution_count": 24,
   "metadata": {},
   "outputs": [],
   "source": [
    "df17A = pd.read_csv(inFile17A, sep='\\t')\n",
    "df17B = pd.read_csv(inFile17B, sep='\\t')\n",
    "df17C = pd.read_csv(inFile17C, sep='\\t')\n",
    "df17D = pd.read_csv(inFile17D, sep='\\t')\n",
    "df17E = pd.read_csv(inFile17E, sep='\\t')\n",
    "df17F = pd.read_csv(inFile17F, sep='\\t')\n",
    "df17G = pd.read_csv(inFile17G, sep='\\t')\n",
    "df17H = pd.read_csv(inFile17H, sep='\\t')\n",
    "df17I = pd.read_csv(inFile17I, sep='\\t')\n",
    "df17J = pd.read_csv(inFile17J, sep='\\t')\n",
    "df17K = pd.read_csv(inFile17K, sep='\\t')\n",
    "df17L = pd.read_csv(inFile17L, sep='\\t')\n",
    "df17M = pd.read_csv(inFile17M, sep='\\t')\n",
    "df17N = pd.read_csv(inFile17N, sep='\\t')\n",
    "df17O = pd.read_csv(inFile17O, sep='\\t')\n",
    "\n",
    "\n",
    "\n",
    "df17 = df17A.append(df17B)\n",
    "df17 = df17.append(df17C)\n",
    "df17 = df17.append(df17D)\n",
    "df17 = df17.append(df17E)\n",
    "df17 = df17.append(df17F)\n",
    "df17 = df17.append(df17G)\n",
    "df17 = df17.append(df17H)\n",
    "df17 = df17.append(df17I)\n",
    "df17 = df17.append(df17J)\n",
    "df17 = df17.append(df17K)\n",
    "df17 = df17.append(df17L)\n",
    "df17 = df17.append(df17M)\n",
    "df17 = df17.append(df17N)\n",
    "df17 = df17.append(df17O)"
   ]
  },
  {
   "cell_type": "code",
   "execution_count": 76,
   "metadata": {},
   "outputs": [
    {
     "data": {
      "text/plain": [
       "0        USA-USA\n",
       "1             UK\n",
       "2             UK\n",
       "3     USA-Canada\n",
       "4    USA-USA-USA\n",
       "Name: country, dtype: object"
      ]
     },
     "execution_count": 76,
     "metadata": {},
     "output_type": "execute_result"
    }
   ],
   "source": [
    "country17 = df17['country']\n",
    "country17.size\n",
    "country.head()"
   ]
  },
  {
   "cell_type": "code",
   "execution_count": 77,
   "metadata": {},
   "outputs": [],
   "source": [
    "newCountry17 = []\n",
    "for ele in country17:\n",
    "    ele = ele.replace('Scotland','UK')\n",
    "    newCountry17.append(ele)"
   ]
  },
  {
   "cell_type": "code",
   "execution_count": 78,
   "metadata": {},
   "outputs": [],
   "source": [
    "tplCount = {}\n",
    "isolates = {}\n",
    "for idx, ele in enumerate(newCountry17):\n",
    "    # print (idx, ele)\n",
    "    if '-' in ele:\n",
    "        tpl = ele.split('-')\n",
    "        tpl = list(set(tpl))\n",
    "        # exists international collboration\n",
    "        if len(tpl) > 1:\n",
    "        # Get all permutations of [1, 2, 3] \n",
    "            comb = combinations(tpl, 2) \n",
    "            for i in list(comb): \n",
    "                if i not in tplCount:\n",
    "                    tplCount[i] = 1\n",
    "                else:\n",
    "                    tplCount[i] += 1 \n",
    "with open('./output/2017All.txt', 'w') as fout:\n",
    "    fout.write('\\t'.join(['C1','C2', 'weight']))\n",
    "    fout.write('\\n')\n",
    "    for key in tplCount:\n",
    "        val = tplCount[key]\n",
    "        fout.write('\\t'.join([key[0],key[1],str(val)]))\n",
    "        fout.write('\\n')"
   ]
  },
  {
   "cell_type": "code",
   "execution_count": 79,
   "metadata": {},
   "outputs": [],
   "source": [
    "keyList17 = list(tplCount)\n",
    "ctyID = {}\n",
    "count = 0\n",
    "for pair in keyList17:\n",
    "    for ele in pair:\n",
    "        if ele not in ctyID:\n",
    "            ctyID[ele] = {'ID': count, 'color': ''}\n",
    "            ctyID[ele]['ID'] = count\n",
    "            if ele in Asia:\n",
    "                ctyID[ele]['color'] = ctyColor['Asia']\n",
    "            elif ele in NorthAmerica:\n",
    "                ctyID[ele]['color'] = ctyColor['NorthAmerica']\n",
    "            elif ele in LatinAmerica:\n",
    "                ctyID[ele]['color'] = ctyColor['LatinAmerica']             \n",
    "            elif ele in Europe:\n",
    "                ctyID[ele]['color'] = ctyColor['Europe']\n",
    "            elif ele in Oceanic:\n",
    "                ctyID[ele]['color'] = ctyColor['Oceanic']\n",
    "            elif ele in Africa:\n",
    "                ctyID[ele]['color'] = ctyColor['Africa']\n",
    "            count += 1"
   ]
  },
  {
   "cell_type": "code",
   "execution_count": 261,
   "metadata": {},
   "outputs": [],
   "source": [
    "newtplCount = {}\n",
    "for key in tplCount:\n",
    "    newKey = (ctyID[key[0]]['ID'], ctyID[key[1]]['ID'])\n",
    "    newtplCount[newKey] = tplCount[key]"
   ]
  },
  {
   "cell_type": "code",
   "execution_count": 80,
   "metadata": {},
   "outputs": [],
   "source": [
    "with open('./output/2017AllEdgesNumbered.txt', 'w') as fout:\n",
    "    fout.write('\\t'.join(['C1','C2', 'weight']))\n",
    "    fout.write('\\n')\n",
    "    for key in newtplCount:\n",
    "        val = newtplCount[key]\n",
    "        fout.write('\\t'.join([str(key[0]),str(key[1]),str(val)]))\n",
    "        fout.write('\\n')"
   ]
  },
  {
   "cell_type": "code",
   "execution_count": 97,
   "metadata": {},
   "outputs": [
    {
     "name": "stdout",
     "output_type": "stream",
     "text": [
      "{'Canada': {'ID': 0, 'color': '#e6194B', 'pubCount': 67}, 'USA': {'ID': 1, 'color': '#e6194B', 'pubCount': 398}, 'Denmark': {'ID': 2, 'color': '#42d4f4', 'pubCount': 19}, 'Finland': {'ID': 3, 'color': '#42d4f4', 'pubCount': 19}, 'Romania': {'ID': 4, 'color': '#42d4f4', 'pubCount': 2}, 'UK': {'ID': 5, 'color': '#42d4f4', 'pubCount': 179}, 'Ireland': {'ID': 6, 'color': '#42d4f4', 'pubCount': 2}, 'Germany': {'ID': 7, 'color': '#42d4f4', 'pubCount': 68}, 'Austria': {'ID': 8, 'color': '#42d4f4', 'pubCount': 9}, 'Sweden': {'ID': 9, 'color': '#42d4f4', 'pubCount': 19}, 'Mexico': {'ID': 10, 'color': '#fabebe', 'pubCount': 1}, 'Hong Kong': {'ID': 11, 'color': '#fffac8', 'pubCount': 6}, 'Belgium': {'ID': 12, 'color': '#42d4f4', 'pubCount': 2}, 'Singapore': {'ID': 13, 'color': '#fffac8', 'pubCount': 4}, 'Spain': {'ID': 14, 'color': '#42d4f4', 'pubCount': 6}, 'Korea': {'ID': 15, 'color': '#fffac8', 'pubCount': 23}, 'Brazil': {'ID': 16, 'color': '#fabebe', 'pubCount': 4}, 'Italy': {'ID': 17, 'color': '#42d4f4', 'pubCount': 7}, 'France': {'ID': 18, 'color': '#42d4f4', 'pubCount': 50}, 'Slovenia': {'ID': 19, 'color': '#42d4f4', 'pubCount': 1}, 'India': {'ID': 20, 'color': '#fffac8', 'pubCount': 10}, 'Switzerland': {'ID': 21, 'color': '#42d4f4', 'pubCount': 9}, 'China': {'ID': 22, 'color': '#fffac8', 'pubCount': 25}, 'Lebanon': {'ID': 23, 'color': '#fffac8', 'pubCount': 1}, 'Japan': {'ID': 24, 'color': '#fffac8', 'pubCount': 43}, 'New Zealand': {'ID': 25, 'color': '#a9a9a9', 'pubCount': 4}, 'Australia': {'ID': 26, 'color': '#a9a9a9', 'pubCount': 27}, 'Greece': {'ID': 27, 'color': '#42d4f4', 'pubCount': 1}, 'Namibia': {'ID': 28, 'color': '#aaffc3', 'pubCount': 1}, 'Israel': {'ID': 29, 'color': '#fffac8', 'pubCount': 4}, 'Bulgaria': {'ID': 30, 'color': '#42d4f4', 'pubCount': 1}, 'Taiwan': {'ID': 31, 'color': '#fffac8', 'pubCount': 2}, 'Malaysia': {'ID': 32, 'color': '#fffac8', 'pubCount': 2}, 'Turkey': {'ID': 33, 'color': '#fffac8', 'pubCount': 1}, 'Netherlands': {'ID': 34, 'color': '#42d4f4', 'pubCount': 12}, 'Qatar': {'ID': 35, 'color': '#fffac8', 'pubCount': 1}, 'Portugal': {'ID': 36, 'color': '#42d4f4', 'pubCount': 4}, 'UAE': {'ID': 37, 'color': '#fffac8', 'pubCount': 3}}\n"
     ]
    }
   ],
   "source": [
    "pubCount = {}\n",
    "for ele in newCountry17:\n",
    "        if '-' not in ele:\n",
    "            if ele not in pubCount:\n",
    "                pubCount[ele] = 1\n",
    "            else:\n",
    "                pubCount[ele] += 1\n",
    "        else:\n",
    "            lst = ele.split('-')\n",
    "            for cty in lst:\n",
    "                if cty not in pubCount:\n",
    "                    pubCount[cty] = 1\n",
    "                else:\n",
    "                    pubCount[cty] += 1\n",
    "for ele in pubCount:\n",
    "    if ele in ctyID:\n",
    "        ctyID[ele]['pubCount'] = pubCount[ele]\n",
    "\n",
    "with open('./output/2017AllcountryID.txt', 'w') as fout:\n",
    "    fout.write('Country' + '\\t' + 'ID' + '\\t' + 'Color' + '\\t' + 'pubCount' + '\\n')\n",
    "    for key in ctyID:\n",
    "        fout.write(key + '\\t' + str(ctyID[key]['ID']) + '\\t' + str(ctyID[key]['color']) + '\\t' + str(ctyID[key]['pubCount']) + '\\n')\n",
    "print (ctyID)"
   ]
  },
  {
   "cell_type": "code",
   "execution_count": 264,
   "metadata": {},
   "outputs": [
    {
     "name": "stdout",
     "output_type": "stream",
     "text": [
      "157\n"
     ]
    }
   ],
   "source": [
    "count = 0\n",
    "for ele in country17:\n",
    "    if '-' in ele:\n",
    "        tpl = set(ele.split('-'))\n",
    "        if len(tpl) > 1:\n",
    "            count += 1\n",
    "        \n",
    "print (count)"
   ]
  },
  {
   "cell_type": "code",
   "execution_count": 26,
   "metadata": {},
   "outputs": [],
   "source": [
    "df1617 = df16.append(df17)"
   ]
  },
  {
   "cell_type": "code",
   "execution_count": 27,
   "metadata": {},
   "outputs": [
    {
     "data": {
      "text/plain": [
       "1145"
      ]
     },
     "execution_count": 27,
     "metadata": {},
     "output_type": "execute_result"
    }
   ],
   "source": [
    "country1617 = df1617['country']\n",
    "country1617.size"
   ]
  },
  {
   "cell_type": "code",
   "execution_count": 268,
   "metadata": {},
   "outputs": [],
   "source": [
    "tplCount = {}\n",
    "isolates = {}\n",
    "for idx, ele in enumerate(country1617):\n",
    "    # print (idx, ele)\n",
    "    if '-' in ele:\n",
    "        tpl = ele.split('-')\n",
    "        tpl = list(set(tpl))\n",
    "        # exists international collboration\n",
    "        if len(tpl) > 1:\n",
    "        # Get all permutations of [1, 2, 3] \n",
    "            comb = combinations(tpl, 2) \n",
    "            for i in list(comb): \n",
    "                if i not in tplCount:\n",
    "                    tplCount[i] = 1\n",
    "                else:\n",
    "                    tplCount[i] += 1 \n",
    "with open('./output/1617All.txt', 'w') as fout:\n",
    "    fout.write('\\t'.join(['C1','C2', 'weight']))\n",
    "    fout.write('\\n')\n",
    "    for key in tplCount:\n",
    "        val = tplCount[key]\n",
    "        fout.write('\\t'.join([key[0],key[1],str(val)]))\n",
    "        fout.write('\\n')"
   ]
  },
  {
   "cell_type": "code",
   "execution_count": 269,
   "metadata": {},
   "outputs": [],
   "source": [
    "keyList1617 = list(tplCount)\n",
    "ctyID = {}\n",
    "count = 0\n",
    "for pair in keyList1617:\n",
    "    for ele in pair:\n",
    "        if ele not in ctyID:\n",
    "            ctyID[ele] = {'ID': count, 'color': ''}\n",
    "            ctyID[ele]['ID'] = count\n",
    "            if ele in Asia:\n",
    "                ctyID[ele]['color'] = ctyColor['Asia']\n",
    "            elif ele in NorthAmerica:\n",
    "                ctyID[ele]['color'] = ctyColor['NorthAmerica']\n",
    "            elif ele in LatinAmerica:\n",
    "                ctyID[ele]['color'] = ctyColor['LatinAmerica']             \n",
    "            elif ele in Europe:\n",
    "                ctyID[ele]['color'] = ctyColor['Europe']\n",
    "            elif ele in Oceanic:\n",
    "                ctyID[ele]['color'] = ctyColor['Oceanic']\n",
    "            elif ele in Africa:\n",
    "                ctyID[ele]['color'] = ctyColor['Africa']\n",
    "            count += 1"
   ]
  },
  {
   "cell_type": "code",
   "execution_count": 270,
   "metadata": {},
   "outputs": [],
   "source": [
    "newtplCount = {}\n",
    "for key in tplCount:\n",
    "    newKey = (ctyID[key[0]]['ID'], ctyID[key[1]]['ID'])\n",
    "    newtplCount[newKey] = tplCount[key]"
   ]
  },
  {
   "cell_type": "code",
   "execution_count": 271,
   "metadata": {},
   "outputs": [],
   "source": [
    "with open('./output/1617AllEdgesNumbered.txt', 'w') as fout:\n",
    "    fout.write('\\t'.join(['C1','C2', 'weight']))\n",
    "    fout.write('\\n')\n",
    "    for key in newtplCount:\n",
    "        val = newtplCount[key]\n",
    "        fout.write('\\t'.join([str(key[0]),str(key[1]),str(val)]))\n",
    "        fout.write('\\n')"
   ]
  },
  {
   "cell_type": "code",
   "execution_count": 272,
   "metadata": {},
   "outputs": [
    {
     "name": "stdout",
     "output_type": "stream",
     "text": [
      "{'USA': {'ID': 0, 'color': '#e6194B', 'pubCount': 783}, 'Canada': {'ID': 1, 'color': '#e6194B', 'pubCount': 136}, 'Finland': {'ID': 2, 'color': '#42d4f4', 'pubCount': 43}, 'Denmark': {'ID': 3, 'color': '#42d4f4', 'pubCount': 40}, 'Romania': {'ID': 4, 'color': '#42d4f4', 'pubCount': 4}, 'UK': {'ID': 5, 'color': '#42d4f4', 'pubCount': 331}, 'Ireland': {'ID': 6, 'color': '#42d4f4', 'pubCount': 6}, 'Germany': {'ID': 7, 'color': '#42d4f4', 'pubCount': 120}, 'Austria': {'ID': 8, 'color': '#42d4f4', 'pubCount': 14}, 'Sweden': {'ID': 9, 'color': '#42d4f4', 'pubCount': 41}, 'Mexico': {'ID': 10, 'color': '#fabebe', 'pubCount': 1}, 'Hong Kong': {'ID': 11, 'color': '#fffac8', 'pubCount': 12}, 'Belgium': {'ID': 12, 'color': '#42d4f4', 'pubCount': 8}, 'Singapore': {'ID': 13, 'color': '#fffac8', 'pubCount': 7}, 'Spain': {'ID': 14, 'color': '#42d4f4', 'pubCount': 11}, 'Korea': {'ID': 15, 'color': '#fffac8', 'pubCount': 54}, 'Brazil': {'ID': 16, 'color': '#fabebe', 'pubCount': 7}, 'Italy': {'ID': 17, 'color': '#42d4f4', 'pubCount': 12}, 'France': {'ID': 18, 'color': '#42d4f4', 'pubCount': 77}, 'Slovenia': {'ID': 19, 'color': '#42d4f4', 'pubCount': 1}, 'India': {'ID': 20, 'color': '#fffac8', 'pubCount': 15}, 'Switzerland': {'ID': 21, 'color': '#42d4f4', 'pubCount': 23}, 'China': {'ID': 22, 'color': '#fffac8', 'pubCount': 41}, 'Lebanon': {'ID': 23, 'color': '#fffac8', 'pubCount': 1}, 'Japan': {'ID': 24, 'color': '#fffac8', 'pubCount': 62}, 'New Zealand': {'ID': 25, 'color': '#a9a9a9', 'pubCount': 10}, 'Australia': {'ID': 26, 'color': '#a9a9a9', 'pubCount': 56}, 'Greece': {'ID': 27, 'color': '#42d4f4', 'pubCount': 2}, 'Namibia': {'ID': 28, 'color': '#aaffc3', 'pubCount': 1}, 'Israel': {'ID': 29, 'color': '#fffac8', 'pubCount': 10}, 'Bulgaria': {'ID': 30, 'color': '#42d4f4', 'pubCount': 1}, 'Taiwan': {'ID': 31, 'color': '#fffac8', 'pubCount': 9}, 'Malaysia': {'ID': 32, 'color': '#fffac8', 'pubCount': 3}, 'Turkey': {'ID': 33, 'color': '#fffac8', 'pubCount': 4}, 'Netherlands': {'ID': 34, 'color': '#42d4f4', 'pubCount': 20}, 'Qatar': {'ID': 35, 'color': '#fffac8', 'pubCount': 2}, 'Portugal': {'ID': 36, 'color': '#42d4f4', 'pubCount': 5}, 'UAE': {'ID': 37, 'color': '#fffac8', 'pubCount': 4}, 'Scotland': {'ID': 38, 'color': '#42d4f4', 'pubCount': 5}, 'Ecuador': {'ID': 39, 'color': '#fabebe', 'pubCount': 1}, 'Norway': {'ID': 40, 'color': '#42d4f4', 'pubCount': 2}, 'Egypt': {'ID': 41, 'color': '#aaffc3', 'pubCount': 3}, 'South Africa': {'ID': 42, 'color': '#aaffc3', 'pubCount': 2}, 'Cyprus': {'ID': 43, 'color': '#42d4f4', 'pubCount': 1}}\n"
     ]
    }
   ],
   "source": [
    "pubCount = {}\n",
    "for ele in country1617:\n",
    "        if '-' not in ele:\n",
    "            if ele not in pubCount:\n",
    "                pubCount[ele] = 1\n",
    "            else:\n",
    "                pubCount[ele] += 1\n",
    "        else:\n",
    "            lst = ele.split('-')\n",
    "            for cty in lst:\n",
    "                if cty not in pubCount:\n",
    "                    pubCount[cty] = 1\n",
    "                else:\n",
    "                    pubCount[cty] += 1\n",
    "for ele in pubCount:\n",
    "    if ele in ctyID:\n",
    "        ctyID[ele]['pubCount'] = pubCount[ele]\n",
    "\n",
    "with open('./output/1617AllcountryID.txt', 'w') as fout:\n",
    "    fout.write('Country' + '\\t' + 'ID' + '\\t' + 'Color' + '\\t' + 'pubCount' + '\\n')\n",
    "    for key in ctyID:\n",
    "        fout.write(key + '\\t' + str(ctyID[key]['ID']) + '\\t' + str(ctyID[key]['color']) + '\\t' + str(ctyID[key]['pubCount']) + '\\n')\n",
    "print (ctyID)"
   ]
  },
  {
   "cell_type": "markdown",
   "metadata": {},
   "source": [
    "## 2018 Analysis"
   ]
  },
  {
   "cell_type": "code",
   "execution_count": 8,
   "metadata": {},
   "outputs": [],
   "source": [
    "inFile18A = '/Users/luhe/Desktop/research/network_analysis/output/2018/chi18-mainA.txt'\n",
    "inFile18B = '/Users/luhe/Desktop/research/network_analysis/output/2018/chi18-mainB.txt'\n",
    "inFile18C = '/Users/luhe/Desktop/research/network_analysis/output/2018/chi18-mainC.txt'\n",
    "inFile18D = '/Users/luhe/Desktop/research/network_analysis/output/2018/chi18-mainD.txt'\n",
    "inFile18E = '/Users/luhe/Desktop/research/network_analysis/output/2018/chi18-mainE.txt'\n",
    "inFile18F = '/Users/luhe/Desktop/research/network_analysis/output/2018/chi18-mainF.txt'\n",
    "inFile18G = '/Users/luhe/Desktop/research/network_analysis/output/2018/chi18-mainG.txt'\n",
    "inFile18H = '/Users/luhe/Desktop/research/network_analysis/output/2018/chi18-mainH.txt'\n",
    "inFile18I = '/Users/luhe/Desktop/research/network_analysis/output/2018/chi18-mainI.txt'\n",
    "inFile18J = '/Users/luhe/Desktop/research/network_analysis/output/2018/chi18-mainJ.txt'\n",
    "inFile18K = '/Users/luhe/Desktop/research/network_analysis/output/2018/chi18-mainK.txt'\n"
   ]
  },
  {
   "cell_type": "code",
   "execution_count": 9,
   "metadata": {},
   "outputs": [],
   "source": [
    "df18A = pd.read_csv(inFile18A, sep='\\t')\n",
    "df18B = pd.read_csv(inFile18B, sep='\\t')\n",
    "df18C = pd.read_csv(inFile18C, sep='\\t')\n",
    "df18D = pd.read_csv(inFile18D, sep='\\t')\n",
    "df18E = pd.read_csv(inFile18E, sep='\\t')\n",
    "df18F = pd.read_csv(inFile18F, sep='\\t')\n",
    "df18G = pd.read_csv(inFile18G, sep='\\t')\n",
    "df18H = pd.read_csv(inFile18H, sep='\\t')\n",
    "df18I = pd.read_csv(inFile18I, sep='\\t')\n",
    "df18J = pd.read_csv(inFile18J, sep='\\t')\n",
    "df18K = pd.read_csv(inFile18K, sep='\\t')"
   ]
  },
  {
   "cell_type": "code",
   "execution_count": 10,
   "metadata": {},
   "outputs": [],
   "source": [
    "df18 = df18A.append(df18B)\n",
    "df18 = df18.append(df18C)\n",
    "df18 = df18.append(df18D)\n",
    "df18 = df18.append(df18E)\n",
    "df18 = df18.append(df18F)\n",
    "df18 = df18.append(df18G)\n",
    "df18 = df18.append(df18H)\n",
    "df18 = df18.append(df18I)\n",
    "df18 = df18.append(df18J)\n",
    "df18 = df18.append(df18K)"
   ]
  },
  {
   "cell_type": "code",
   "execution_count": 82,
   "metadata": {},
   "outputs": [],
   "source": [
    "newCountry18 = []\n",
    "for ele in country18:\n",
    "    ele = ele.replace('Scotland','UK')\n",
    "    newCountry18.append(ele)"
   ]
  },
  {
   "cell_type": "code",
   "execution_count": 29,
   "metadata": {},
   "outputs": [
    {
     "data": {
      "text/plain": [
       "1810"
      ]
     },
     "execution_count": 29,
     "metadata": {},
     "output_type": "execute_result"
    }
   ],
   "source": [
    "country161718 = df161718['country']\n",
    "country161718.size\n",
    "# country.head()"
   ]
  },
  {
   "cell_type": "code",
   "execution_count": 52,
   "metadata": {},
   "outputs": [],
   "source": [
    "newCountry = []\n",
    "for ele in country161718:\n",
    "    ele = ele.replace('Scotland','UK')\n",
    "    newCountry.append(ele)"
   ]
  },
  {
   "cell_type": "code",
   "execution_count": 83,
   "metadata": {},
   "outputs": [
    {
     "name": "stdout",
     "output_type": "stream",
     "text": [
      "{('Korea', 'USA'): 11, ('Finland', 'UK'): 5, ('Germany', 'Denmark'): 6, ('Germany', 'Canada'): 4, ('Canada', 'USA'): 18, ('Korea', 'Canada'): 2, ('Israel', 'USA'): 1, ('Germany', 'Finland'): 4, ('Philippines', 'USA'): 1, ('France', 'Canada'): 8, ('Switzerland', 'Korea'): 1, ('Switzerland', 'USA'): 4, ('China', 'Hong Kong'): 3, ('Finland', 'Korea'): 2, ('Denmark', 'Switzerland'): 2, ('Germany', 'France'): 2, ('Germany', 'UK'): 8, ('France', 'UK'): 4, ('Germany', 'Austria'): 3, ('China', 'USA'): 15, ('Ireland', 'Finland'): 1, ('Ireland', 'UK'): 3, ('Sweden', 'UK'): 11, ('Italy', 'USA'): 1, ('Canada', 'UK'): 9, ('Israel', 'France'): 1, ('Hungary', 'USA'): 1, ('Germany', 'Australia'): 3, ('Germany', 'USA'): 10, ('Austria', 'USA'): 3, ('Netherlands', 'UK'): 3, ('Germany', 'Japan'): 3, ('USA', 'UK'): 8, ('Taiwan', 'China'): 1, ('Taiwan', 'Canada'): 1, ('Taiwan', 'USA'): 7, ('China', 'Canada'): 2, ('UK', 'USA'): 7, ('Switzerland', 'UK'): 3, ('Singapore', 'Canada'): 2, ('France', 'USA'): 4, ('Paraguay', 'USA'): 1, ('Germany', 'Brazil'): 1, ('Denmark', 'Canada'): 2, ('Sweden', 'Costa Rica'): 1, ('Rwanda', 'USA'): 1, ('Japan', 'Canada'): 3, ('Denmark', 'Netherlands'): 1, ('Denmark', 'Finland'): 2, ('Netherlands', 'Finland'): 1, ('Tanzania', 'USA'): 1, ('Australia', 'USA'): 4, ('Sweden', 'Germany'): 2, ('Singapore', 'Korea'): 1, ('Japan', 'USA'): 3, ('Switzerland', 'China'): 1, ('Netherlands', 'Canada'): 3, ('Netherlands', 'USA'): 4, ('USA', 'Pakistan'): 1, ('Pakistan', 'UK'): 1, ('Vietnam', 'Canada'): 1, ('Vietnam', 'USA'): 1, ('New Zealand', 'Canada'): 2, ('New Zealand', 'UK'): 2, ('Denmark', 'Australia'): 2, ('Sweden', 'Ireland'): 1, ('India', 'USA'): 2, ('New Zealand', 'Japan'): 1, ('Austria', 'UK'): 2, ('Germany', 'Belgium'): 1, ('Denmark', 'UK'): 4, ('Denmark', 'Singapore'): 1, ('Denmark', 'USA'): 1, ('Sweden', 'USA'): 1, ('Denmark', 'Ireland'): 1, ('Denmark', 'France'): 1, ('Taiwan', 'Korea'): 2, ('Argentina', 'USA'): 1, ('Brazil', 'USA'): 1, ('Germany', 'Spain'): 1, ('Germany', 'Netherlands'): 2, ('Spain', 'Netherlands'): 1, ('Switzerland', 'Finland'): 1, ('Ecuador', 'UK'): 1, ('Germany', 'South Africa'): 1, ('South Africa', 'UK'): 1, ('Netherlands', 'Taiwan'): 1, ('Ecuador', 'USA'): 2, ('India', 'UK'): 2, ('Korea', 'Finland'): 1, ('Sweden', 'India'): 1, ('Sweden', 'Denmark'): 1, ('India', 'Denmark'): 1, ('Germany', 'Portugal'): 1, ('Germany', 'Cyprus'): 2, ('Portugal', 'Cyprus'): 1, ('Germany', 'Sweden'): 2, ('Sweden', 'Singapore'): 1, ('Singapore', 'USA'): 2, ('Romania', 'Spain'): 1, ('Romania', 'Canada'): 1, ('Spain', 'Canada'): 1, ('Portugal', 'Austria'): 1, ('USA', 'Hong Kong'): 2, ('Denmark', 'Qatar'): 1, ('Australia', 'Finland'): 1, ('Japan', 'Finland'): 1, ('Japan', 'Australia'): 1, ('Finland', 'Australia'): 2, ('New Zealand', 'Australia'): 1, ('Germany', 'Greece'): 1, ('Cyprus', 'Greece'): 1, ('Saudi Arabia', 'UK'): 1, ('Taiwan', 'Netherlands'): 1, ('China', 'Japan'): 1, ('China', 'Austria'): 1, ('Japan', 'Austria'): 1, ('Iran', 'USA'): 1, ('Uganda', 'Portugal'): 1, ('Hong Kong', 'USA'): 1, ('USA', 'Netherlands'): 1, ('USA', 'Denmark'): 1, ('Netherlands', 'Denmark'): 1, ('UK', 'Denmark'): 1, ('Qatar', 'Switzerland'): 1, ('Qatar', 'USA'): 1, ('Singapore', 'UK'): 1, ('Norway', 'Greece'): 1, ('Norway', 'UK'): 1, ('Greece', 'UK'): 1}\n"
     ]
    }
   ],
   "source": [
    "tplCount = {}\n",
    "isolates = {}\n",
    "for idx, ele in enumerate(newCountry18):\n",
    "    # print (idx, ele)\n",
    "    if '-' in ele:\n",
    "        tpl = ele.split('-')\n",
    "        tpl = list(set(tpl))\n",
    "        # exists international collboration\n",
    "        if len(tpl) > 1:\n",
    "        # Get all permutations of [1, 2, 3] \n",
    "            comb = combinations(tpl, 2) \n",
    "            for i in list(comb):\n",
    "                if i not in tplCount:\n",
    "                    tplCount[i] = 1\n",
    "                else:\n",
    "                    tplCount[i] += 1 \n",
    "print (tplCount)\n",
    "with open('./output/2018All.txt', 'w') as fout:\n",
    "    fout.write('\\t'.join(['C1','C2', 'weight']))\n",
    "    fout.write('\\n')\n",
    "    for key in tplCount:\n",
    "        val = tplCount[key]\n",
    "        fout.write('\\t'.join([key[0],key[1],str(val)]))\n",
    "        fout.write('\\n')"
   ]
  },
  {
   "cell_type": "code",
   "execution_count": 55,
   "metadata": {},
   "outputs": [
    {
     "data": {
      "text/plain": [
       "{}"
      ]
     },
     "execution_count": 55,
     "metadata": {},
     "output_type": "execute_result"
    }
   ],
   "source": [
    "tplCount"
   ]
  },
  {
   "cell_type": "code",
   "execution_count": 84,
   "metadata": {},
   "outputs": [],
   "source": [
    "keyList161718 = list(tplCount)\n",
    "ctyID = {}\n",
    "count = 0\n",
    "for pair in keyList161718:\n",
    "    for ele in pair:\n",
    "        if ele not in ctyID:\n",
    "            ctyID[ele] = {'ID': count, 'color': ''}\n",
    "            ctyID[ele]['ID'] = count\n",
    "            if ele in Asia:\n",
    "                ctyID[ele]['color'] = ctyColor['Asia']\n",
    "            elif ele in NorthAmerica:\n",
    "                ctyID[ele]['color'] = ctyColor['NorthAmerica']\n",
    "            elif ele in LatinAmerica:\n",
    "                ctyID[ele]['color'] = ctyColor['LatinAmerica']             \n",
    "            elif ele in Europe:\n",
    "                ctyID[ele]['color'] = ctyColor['Europe']\n",
    "            elif ele in Oceanic:\n",
    "                ctyID[ele]['color'] = ctyColor['Oceanic']\n",
    "            elif ele in Africa:\n",
    "                ctyID[ele]['color'] = ctyColor['Africa']\n",
    "            count += 1"
   ]
  },
  {
   "cell_type": "code",
   "execution_count": 85,
   "metadata": {},
   "outputs": [],
   "source": [
    "newtplCount = {}\n",
    "for key in tplCount:\n",
    "    newKey = (ctyID[key[0]]['ID'], ctyID[key[1]]['ID'])\n",
    "    newtplCount[newKey] = tplCount[key]"
   ]
  },
  {
   "cell_type": "code",
   "execution_count": 87,
   "metadata": {},
   "outputs": [],
   "source": [
    "with open('./output/2018AllEdgesNumbered.txt', 'w') as fout:\n",
    "    fout.write('\\t'.join(['C1','C2', 'weight']))\n",
    "    fout.write('\\n')\n",
    "    for key in newtplCount:\n",
    "        val = newtplCount[key]\n",
    "        fout.write('\\t'.join([str(key[0]),str(key[1]),str(val)]))\n",
    "        fout.write('\\n')"
   ]
  },
  {
   "cell_type": "code",
   "execution_count": 88,
   "metadata": {},
   "outputs": [
    {
     "name": "stdout",
     "output_type": "stream",
     "text": [
      "{'Korea': {'ID': 0, 'color': '#fffac8', 'pubCount': 43}, 'USA': {'ID': 1, 'color': '#e6194B', 'pubCount': 523}, 'Finland': {'ID': 2, 'color': '#42d4f4', 'pubCount': 19}, 'UK': {'ID': 3, 'color': '#42d4f4', 'pubCount': 167}, 'Germany': {'ID': 4, 'color': '#42d4f4', 'pubCount': 108}, 'Denmark': {'ID': 5, 'color': '#42d4f4', 'pubCount': 30}, 'Canada': {'ID': 6, 'color': '#e6194B', 'pubCount': 89}, 'Israel': {'ID': 7, 'color': '#fffac8', 'pubCount': 6}, 'Philippines': {'ID': 8, 'color': '#fffac8', 'pubCount': 1}, 'France': {'ID': 9, 'color': '#42d4f4', 'pubCount': 37}, 'Switzerland': {'ID': 10, 'color': '#42d4f4', 'pubCount': 14}, 'China': {'ID': 11, 'color': '#fffac8', 'pubCount': 26}, 'Hong Kong': {'ID': 12, 'color': '#fffac8', 'pubCount': 8}, 'Austria': {'ID': 13, 'color': '#42d4f4', 'pubCount': 7}, 'Ireland': {'ID': 14, 'color': '#42d4f4', 'pubCount': 5}, 'Sweden': {'ID': 15, 'color': '#42d4f4', 'pubCount': 26}, 'Italy': {'ID': 16, 'color': '#42d4f4', 'pubCount': 2}, 'Hungary': {'ID': 17, 'color': '#42d4f4', 'pubCount': 1}, 'Australia': {'ID': 18, 'color': '#a9a9a9', 'pubCount': 22}, 'Netherlands': {'ID': 19, 'color': '#42d4f4', 'pubCount': 20}, 'Japan': {'ID': 20, 'color': '#fffac8', 'pubCount': 34}, 'Taiwan': {'ID': 21, 'color': '#fffac8', 'pubCount': 10}, 'Singapore': {'ID': 22, 'color': '#fffac8', 'pubCount': 9}, 'Paraguay': {'ID': 23, 'color': '#fabebe', 'pubCount': 1}, 'Brazil': {'ID': 24, 'color': '#fabebe', 'pubCount': 2}, 'Costa Rica': {'ID': 25, 'color': '#e6194B', 'pubCount': 1}, 'Rwanda': {'ID': 26, 'color': '#aaffc3', 'pubCount': 1}, 'Tanzania': {'ID': 27, 'color': '#aaffc3', 'pubCount': 1}, 'Pakistan': {'ID': 28, 'color': '#fffac8', 'pubCount': 1}, 'Vietnam': {'ID': 29, 'color': '#fffac8', 'pubCount': 1}, 'New Zealand': {'ID': 30, 'color': '#a9a9a9', 'pubCount': 5}, 'India': {'ID': 31, 'color': '#fffac8', 'pubCount': 7}, 'Belgium': {'ID': 32, 'color': '#42d4f4', 'pubCount': 3}, 'Argentina': {'ID': 33, 'color': '#fabebe', 'pubCount': 1}, 'Spain': {'ID': 34, 'color': '#42d4f4', 'pubCount': 2}, 'Ecuador': {'ID': 35, 'color': '#fabebe', 'pubCount': 3}, 'South Africa': {'ID': 36, 'color': '#aaffc3', 'pubCount': 2}, 'Portugal': {'ID': 37, 'color': '#42d4f4', 'pubCount': 5}, 'Cyprus': {'ID': 38, 'color': '#42d4f4', 'pubCount': 2}, 'Romania': {'ID': 39, 'color': '#42d4f4', 'pubCount': 1}, 'Qatar': {'ID': 40, 'color': '#fffac8', 'pubCount': 2}, 'Greece': {'ID': 41, 'color': '#42d4f4', 'pubCount': 2}, 'Saudi Arabia': {'ID': 42, 'color': '#fffac8', 'pubCount': 1}, 'Iran': {'ID': 43, 'color': '#fffac8', 'pubCount': 1}, 'Uganda': {'ID': 44, 'color': '#aaffc3', 'pubCount': 1}, 'Norway': {'ID': 45, 'color': '#42d4f4', 'pubCount': 1}}\n"
     ]
    }
   ],
   "source": [
    "pubCount = {}\n",
    "for ele in newCountry18:\n",
    "        if '-' not in ele:\n",
    "            if ele not in pubCount:\n",
    "                pubCount[ele] = 1\n",
    "            else:\n",
    "                pubCount[ele] += 1\n",
    "        else:\n",
    "            lst = ele.split('-')\n",
    "            for cty in lst:\n",
    "                if cty not in pubCount:\n",
    "                    pubCount[cty] = 1\n",
    "                else:\n",
    "                    pubCount[cty] += 1\n",
    "for ele in pubCount:\n",
    "    if ele in ctyID:\n",
    "        ctyID[ele]['pubCount'] = pubCount[ele]\n",
    "\n",
    "with open('./output/2018AllcountryID.txt', 'w') as fout:\n",
    "    fout.write('Country' + '\\t' + 'ID' + '\\t' + 'Color' + '\\t' + 'pubCount' + '\\n')\n",
    "    for key in ctyID:\n",
    "        fout.write(key + '\\t' + str(ctyID[key]['ID']) + '\\t' + str(ctyID[key]['color']) + '\\t' + str(ctyID[key]['pubCount']) + '\\n')\n",
    "print (ctyID)"
   ]
  },
  {
   "cell_type": "code",
   "execution_count": 18,
   "metadata": {},
   "outputs": [
    {
     "name": "stdout",
     "output_type": "stream",
     "text": [
      "208\n"
     ]
    }
   ],
   "source": [
    "count = 0\n",
    "for ele in country18:\n",
    "    if '-' in ele:\n",
    "        tpl = set(ele.split('-'))\n",
    "        if len(tpl) > 1:\n",
    "            count += 1\n",
    "        \n",
    "print (count)"
   ]
  },
  {
   "cell_type": "code",
   "execution_count": 28,
   "metadata": {},
   "outputs": [],
   "source": [
    "df161718 = df1617.append(df18)"
   ]
  },
  {
   "cell_type": "code",
   "execution_count": 44,
   "metadata": {},
   "outputs": [
    {
     "data": {
      "text/plain": [
       "[1, 2, 3, 4]"
      ]
     },
     "execution_count": 44,
     "metadata": {},
     "output_type": "execute_result"
    }
   ],
   "source": [
    "j = [1,2,3,4]\n",
    "for i in j:\n",
    "    if i ==1:\n",
    "        i = 2\n",
    "j"
   ]
  },
  {
   "cell_type": "code",
   "execution_count": 150,
   "metadata": {},
   "outputs": [
    {
     "name": "stdout",
     "output_type": "stream",
     "text": [
      "--------------USA------------\n",
      "274 63\n",
      "0.22992700729927007\n",
      "--------------UK------------\n",
      "99 40\n",
      "0.40404040404040403\n",
      "--------------Canada------------\n",
      "57 33\n",
      "0.5789473684210527\n",
      "--------------Australia------------\n",
      "11 2\n",
      "0.18181818181818182\n",
      "--------------Germany------------\n",
      "43 21\n",
      "0.4883720930232558\n",
      "--------------Denmark------------\n",
      "21 12\n",
      "0.5714285714285714\n",
      "--------------Finland------------\n",
      "17 6\n",
      "0.35294117647058826\n"
     ]
    }
   ],
   "source": [
    "c_usa = 0\n",
    "c_usa_coll = 0\n",
    "\n",
    "c_uk = 0\n",
    "c_uk_coll = 0\n",
    "\n",
    "c_ca = 0\n",
    "c_ca_coll = 0\n",
    "\n",
    "c_au = 0\n",
    "c_au_coll = 0\n",
    "\n",
    "c_dm = 0\n",
    "c_dm_coll = 0\n",
    "\n",
    "c_gm = 0\n",
    "c_gm_coll = 0\n",
    "\n",
    "c_fl = 0\n",
    "c_fl_coll = 0\n",
    "\n",
    "for ele in newCountry16:\n",
    "    ele = set(ele.split('-'))\n",
    "    #print (ele)\n",
    "    if 'USA' in ele:\n",
    "        c_usa += 1\n",
    "        if len(ele) > 1:\n",
    "            c_usa_coll += 1\n",
    "\n",
    "    if 'UK' in ele:\n",
    "        c_uk += 1\n",
    "        if len(ele) > 1:\n",
    "            c_uk_coll += 1\n",
    "            \n",
    "    if 'Canada' in ele:\n",
    "        c_ca += 1\n",
    "        if len(ele) > 1:\n",
    "            c_ca_coll += 1\n",
    "            \n",
    "    if 'Australia' in ele:\n",
    "        c_au += 1\n",
    "        if len(ele) > 1:\n",
    "            c_au_coll += 1\n",
    "            \n",
    "            \n",
    "    if 'Germany' in ele:\n",
    "        c_gm += 1\n",
    "        if len(ele) > 1:\n",
    "            c_gm_coll += 1\n",
    "            \n",
    "    if 'Denmark' in ele:\n",
    "        c_dm += 1\n",
    "        if len(ele) > 1:\n",
    "            c_dm_coll += 1\n",
    "            \n",
    "    if 'Finland' in ele:\n",
    "        c_fl += 1\n",
    "        if len(ele) > 1:\n",
    "            c_fl_coll += 1\n",
    "\n",
    "print ('--------------USA------------')\n",
    "print (c_usa, c_usa_coll) \n",
    "print (c_usa_coll/c_usa)\n",
    "print ('--------------UK------------')\n",
    "print (c_uk, c_uk_coll)\n",
    "print (c_uk_coll/c_uk)\n",
    "print ('--------------Canada------------')\n",
    "print (c_ca, c_ca_coll)\n",
    "print (c_ca_coll/c_ca)\n",
    "print ('--------------Australia------------')\n",
    "print (c_au, c_au_coll)\n",
    "print (c_au_coll/c_au)\n",
    "print ('--------------Germany------------')\n",
    "print (c_gm, c_gm_coll)\n",
    "print (c_gm_coll/c_gm)\n",
    "print ('--------------Denmark------------')\n",
    "print (c_dm, c_dm_coll)\n",
    "print (c_dm_coll/c_dm)\n",
    "print ('--------------Finland------------')\n",
    "print (c_fl, c_fl_coll)\n",
    "print (c_fl_coll/c_fl)"
   ]
  },
  {
   "cell_type": "code",
   "execution_count": 151,
   "metadata": {},
   "outputs": [
    {
     "name": "stdout",
     "output_type": "stream",
     "text": [
      "--------------USA------------\n",
      "310 81\n",
      "0.26129032258064516\n",
      "--------------UK------------\n",
      "98 40\n",
      "0.40816326530612246\n",
      "--------------Canada------------\n",
      "57 33\n",
      "0.5789473684210527\n",
      "--------------Australia------------\n",
      "17 5\n",
      "0.29411764705882354\n",
      "--------------Germany------------\n",
      "55 22\n",
      "0.4\n",
      "--------------Denmark------------\n",
      "19 13\n",
      "0.6842105263157895\n",
      "--------------Finland------------\n",
      "17 12\n",
      "0.7058823529411765\n"
     ]
    }
   ],
   "source": [
    "c_usa = 0\n",
    "c_usa_coll = 0\n",
    "\n",
    "c_uk = 0\n",
    "c_uk_coll = 0\n",
    "\n",
    "c_ca = 0\n",
    "c_ca_coll = 0\n",
    "\n",
    "c_au = 0\n",
    "c_au_coll = 0\n",
    "\n",
    "c_dm = 0\n",
    "c_dm_coll = 0\n",
    "\n",
    "c_gm = 0\n",
    "c_gm_coll = 0\n",
    "\n",
    "c_fl = 0\n",
    "c_fl_coll = 0\n",
    "\n",
    "for ele in newCountry17:\n",
    "    ele = set(ele.split('-'))\n",
    "    #print (ele)\n",
    "    if 'USA' in ele:\n",
    "        c_usa += 1\n",
    "        if len(ele) > 1:\n",
    "            c_usa_coll += 1\n",
    "\n",
    "    if 'UK' in ele:\n",
    "        c_uk += 1\n",
    "        if len(ele) > 1:\n",
    "            c_uk_coll += 1\n",
    "            \n",
    "    if 'Canada' in ele:\n",
    "        c_ca += 1\n",
    "        if len(ele) > 1:\n",
    "            c_ca_coll += 1\n",
    "            \n",
    "    if 'Australia' in ele:\n",
    "        c_au += 1\n",
    "        if len(ele) > 1:\n",
    "            c_au_coll += 1\n",
    "            \n",
    "            \n",
    "    if 'Germany' in ele:\n",
    "        c_gm += 1\n",
    "        if len(ele) > 1:\n",
    "            c_gm_coll += 1\n",
    "            \n",
    "    if 'Denmark' in ele:\n",
    "        c_dm += 1\n",
    "        if len(ele) > 1:\n",
    "            c_dm_coll += 1\n",
    "            \n",
    "    if 'Finland' in ele:\n",
    "        c_fl += 1\n",
    "        if len(ele) > 1:\n",
    "            c_fl_coll += 1\n",
    "\n",
    "print ('--------------USA------------')\n",
    "print (c_usa, c_usa_coll) \n",
    "print (c_usa_coll/c_usa)\n",
    "print ('--------------UK------------')\n",
    "print (c_uk, c_uk_coll)\n",
    "print (c_uk_coll/c_uk)\n",
    "print ('--------------Canada------------')\n",
    "print (c_ca, c_ca_coll)\n",
    "print (c_ca_coll/c_ca)\n",
    "print ('--------------Australia------------')\n",
    "print (c_au, c_au_coll)\n",
    "print (c_au_coll/c_au)\n",
    "print ('--------------Germany------------')\n",
    "print (c_gm, c_gm_coll)\n",
    "print (c_gm_coll/c_gm)\n",
    "print ('--------------Denmark------------')\n",
    "print (c_dm, c_dm_coll)\n",
    "print (c_dm_coll/c_dm)\n",
    "print ('--------------Finland------------')\n",
    "print (c_fl, c_fl_coll)\n",
    "print (c_fl_coll/c_fl)"
   ]
  },
  {
   "cell_type": "code",
   "execution_count": 152,
   "metadata": {},
   "outputs": [
    {
     "name": "stdout",
     "output_type": "stream",
     "text": [
      "--------------USA------------\n",
      "357 99\n",
      "0.2773109243697479\n",
      "--------------UK------------\n",
      "109 56\n",
      "0.5137614678899083\n",
      "--------------Canada------------\n",
      "68 46\n",
      "0.6764705882352942\n",
      "--------------Australia------------\n",
      "19 11\n",
      "0.5789473684210527\n",
      "--------------Korea------------\n",
      "307 206\n",
      "0.6710097719869706\n",
      "--------------Germany------------\n",
      "73 43\n",
      "0.589041095890411\n",
      "--------------Denmark------------\n",
      "30 19\n",
      "0.6333333333333333\n",
      "--------------Finland------------\n",
      "18 15\n",
      "0.8333333333333334\n"
     ]
    }
   ],
   "source": [
    "c_usa = 0\n",
    "c_usa_coll = 0\n",
    "\n",
    "c_uk = 0\n",
    "c_uk_coll = 0\n",
    "\n",
    "c_ca = 0\n",
    "c_ca_coll = 0\n",
    "\n",
    "c_au = 0\n",
    "c_au_coll = 0\n",
    "\n",
    "c_dm = 0\n",
    "c_dm_coll = 0\n",
    "\n",
    "c_gm = 0\n",
    "c_gm_coll = 0\n",
    "\n",
    "c_fl = 0\n",
    "c_fl_coll = 0\n",
    "\n",
    "for ele in newCountry18:\n",
    "    ele = set(ele.split('-'))\n",
    "    #print (ele)\n",
    "    if 'USA' in ele:\n",
    "        c_usa += 1\n",
    "        if len(ele) > 1:\n",
    "            c_usa_coll += 1\n",
    "\n",
    "    if 'UK' in ele:\n",
    "        c_uk += 1\n",
    "        if len(ele) > 1:\n",
    "            c_uk_coll += 1\n",
    "            \n",
    "    if 'Canada' in ele:\n",
    "        c_ca += 1\n",
    "        if len(ele) > 1:\n",
    "            c_ca_coll += 1\n",
    "            \n",
    "    if 'Australia' in ele:\n",
    "        c_au += 1\n",
    "        if len(ele) > 1:\n",
    "            c_au_coll += 1\n",
    "            \n",
    "    if 'Korea' in ele:\n",
    "        c_kr += 1\n",
    "        if len(ele) > 1:\n",
    "            c_kr_coll += 1\n",
    "            \n",
    "    if 'Germany' in ele:\n",
    "        c_gm += 1\n",
    "        if len(ele) > 1:\n",
    "            c_gm_coll += 1\n",
    "            \n",
    "    if 'Denmark' in ele:\n",
    "        c_dm += 1\n",
    "        if len(ele) > 1:\n",
    "            c_dm_coll += 1\n",
    "            \n",
    "    if 'Finland' in ele:\n",
    "        c_fl += 1\n",
    "        if len(ele) > 1:\n",
    "            c_fl_coll += 1\n",
    "\n",
    "print ('--------------USA------------')\n",
    "print (c_usa, c_usa_coll) \n",
    "print (c_usa_coll/c_usa)\n",
    "print ('--------------UK------------')\n",
    "print (c_uk, c_uk_coll)\n",
    "print (c_uk_coll/c_uk)\n",
    "print ('--------------Canada------------')\n",
    "print (c_ca, c_ca_coll)\n",
    "print (c_ca_coll/c_ca)\n",
    "print ('--------------Australia------------')\n",
    "print (c_au, c_au_coll)\n",
    "print (c_au_coll/c_au)\n",
    "print ('--------------Korea------------')\n",
    "print (c_kr, c_kr_coll)\n",
    "print (c_kr_coll/c_kr)\n",
    "print ('--------------Germany------------')\n",
    "print (c_gm, c_gm_coll)\n",
    "print (c_gm_coll/c_gm)\n",
    "print ('--------------Denmark------------')\n",
    "print (c_dm, c_dm_coll)\n",
    "print (c_dm_coll/c_dm)\n",
    "print ('--------------Finland------------')\n",
    "print (c_fl, c_fl_coll)\n",
    "print (c_fl_coll/c_fl)"
   ]
  },
  {
   "cell_type": "code",
   "execution_count": 157,
   "metadata": {},
   "outputs": [
    {
     "name": "stdout",
     "output_type": "stream",
     "text": [
      "135 10\n",
      "0.07407407407407407\n"
     ]
    }
   ],
   "source": [
    "all_coll = 0\n",
    "nonCoreColl = 0\n",
    "\n",
    "cores = ['USA', 'UK', 'Canada', 'Germany', 'Denmark', 'Finland']\n",
    "for ele in newCountry16:\n",
    "    ele = set(ele.split('-'))\n",
    "    #print (ele)\n",
    "    #print ('--------------')\n",
    "    if len(ele) > 1:\n",
    "        all_coll += 1\n",
    "        c = 0\n",
    "        for core in cores:\n",
    "            if core not in ele:\n",
    "                c += 1\n",
    "        if c == 6:\n",
    "            nonCoreColl += 1\n",
    "            #print (ele)\n",
    "            #print ('****************')\n",
    "\n",
    "print (all_coll, nonCoreColl)\n",
    "print (nonCoreColl/all_coll)\n",
    "                \n",
    "        \n"
   ]
  },
  {
   "cell_type": "code",
   "execution_count": 158,
   "metadata": {},
   "outputs": [
    {
     "name": "stdout",
     "output_type": "stream",
     "text": [
      "156 11\n",
      "0.07051282051282051\n"
     ]
    }
   ],
   "source": [
    "all_coll = 0\n",
    "nonCoreColl = 0\n",
    "\n",
    "cores = ['USA', 'UK', 'Canada', 'Germany', 'Denmark', 'Finland']\n",
    "for ele in newCountry17:\n",
    "    ele = set(ele.split('-'))\n",
    "    #print (ele)\n",
    "    #print ('--------------')\n",
    "    if len(ele) > 1:\n",
    "        all_coll += 1\n",
    "        c = 0\n",
    "        for core in cores:\n",
    "            if core not in ele:\n",
    "                c += 1\n",
    "        if c == 6:\n",
    "            nonCoreColl += 1\n",
    "            #print (ele)\n",
    "            #print ('****************')\n",
    "\n",
    "print (all_coll, nonCoreColl)\n",
    "print (nonCoreColl/all_coll)\n",
    "                "
   ]
  },
  {
   "cell_type": "code",
   "execution_count": 159,
   "metadata": {},
   "outputs": [
    {
     "name": "stdout",
     "output_type": "stream",
     "text": [
      "208 13\n",
      "0.0625\n"
     ]
    }
   ],
   "source": [
    "all_coll = 0\n",
    "nonCoreColl = 0\n",
    "\n",
    "cores = ['USA', 'UK', 'Canada', 'Germany', 'Denmark', 'Finland']\n",
    "for ele in newCountry18:\n",
    "    ele = set(ele.split('-'))\n",
    "    #print (ele)\n",
    "    #print ('--------------')\n",
    "    if len(ele) > 1:\n",
    "        all_coll += 1\n",
    "        c = 0\n",
    "        for core in cores:\n",
    "            if core not in ele:\n",
    "                c += 1\n",
    "        if c == 6:\n",
    "            nonCoreColl += 1\n",
    "            #print (ele)\n",
    "            #print ('****************')\n",
    "\n",
    "print (all_coll, nonCoreColl)\n",
    "print (nonCoreColl/all_coll)\n",
    "                "
   ]
  },
  {
   "cell_type": "code",
   "execution_count": null,
   "metadata": {},
   "outputs": [],
   "source": []
  }
 ],
 "metadata": {
  "kernelspec": {
   "display_name": "Python 3",
   "language": "python",
   "name": "python3"
  },
  "language_info": {
   "codemirror_mode": {
    "name": "ipython",
    "version": 3
   },
   "file_extension": ".py",
   "mimetype": "text/x-python",
   "name": "python",
   "nbconvert_exporter": "python",
   "pygments_lexer": "ipython3",
   "version": "3.7.5"
  },
  "varInspector": {
   "cols": {
    "lenName": 16,
    "lenType": 16,
    "lenVar": 40
   },
   "kernels_config": {
    "python": {
     "delete_cmd_postfix": "",
     "delete_cmd_prefix": "del ",
     "library": "var_list.py",
     "varRefreshCmd": "print(var_dic_list())"
    },
    "r": {
     "delete_cmd_postfix": ") ",
     "delete_cmd_prefix": "rm(",
     "library": "var_list.r",
     "varRefreshCmd": "cat(var_dic_list()) "
    }
   },
   "types_to_exclude": [
    "module",
    "function",
    "builtin_function_or_method",
    "instance",
    "_Feature"
   ],
   "window_display": false
  }
 },
 "nbformat": 4,
 "nbformat_minor": 2
}
